{
 "cells": [
  {
   "cell_type": "code",
   "execution_count": 16,
   "id": "dd5cea94",
   "metadata": {},
   "outputs": [],
   "source": [
    "#Import python libraries   \n",
    "import statistics"
   ]
  },
  {
   "cell_type": "code",
   "execution_count": 21,
   "id": "c21f6a8c",
   "metadata": {
    "scrolled": true
   },
   "outputs": [
    {
     "name": "stdout",
     "output_type": "stream",
     "text": [
      "145.33333333333334\n"
     ]
    }
   ],
   "source": [
    "print(statistics.mean([108, 110, 123, 134, 135, 145, 167, 187, 199]))"
   ]
  },
  {
   "cell_type": "markdown",
   "id": "c5555ba1",
   "metadata": {},
   "source": []
  }
 ],
 "metadata": {
  "kernelspec": {
   "display_name": "Python 3 (ipykernel)",
   "language": "python",
   "name": "python3"
  },
  "language_info": {
   "codemirror_mode": {
    "name": "ipython",
    "version": 3
   },
   "file_extension": ".py",
   "mimetype": "text/x-python",
   "name": "python",
   "nbconvert_exporter": "python",
   "pygments_lexer": "ipython3",
   "version": "3.9.13"
  }
 },
 "nbformat": 4,
 "nbformat_minor": 5
}
