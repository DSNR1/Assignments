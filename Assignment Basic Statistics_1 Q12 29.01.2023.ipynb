{
 "cells": [
  {
   "cell_type": "code",
   "execution_count": 1,
   "id": "c3af0d25",
   "metadata": {},
   "outputs": [],
   "source": [
    "#Import python libraries   \n",
    "import statistics\n",
    "import numpy as np\n",
    "import pandas as pd\n",
    "import matplotlib as mpl\n",
    "import seaborn as sns\n",
    "import matplotlib.pyplot as plt"
   ]
  },
  {
   "cell_type": "code",
   "execution_count": 2,
   "id": "ce510379",
   "metadata": {},
   "outputs": [
    {
     "name": "stdout",
     "output_type": "stream",
     "text": [
      "41\n"
     ]
    }
   ],
   "source": [
    "print(statistics.mean([34,36,36,38,38,39,39,40,40,41,41,41,41,42,42,45,49,56]))"
   ]
  },
  {
   "cell_type": "code",
   "execution_count": 5,
   "id": "d2050fe9",
   "metadata": {},
   "outputs": [
    {
     "name": "stdout",
     "output_type": "stream",
     "text": [
      "40.5\n"
     ]
    }
   ],
   "source": [
    "print(statistics.median([34,36,36,38,38,39,39,40,40,41,41,41,41,42,42,45,49,56]))"
   ]
  },
  {
   "cell_type": "code",
   "execution_count": 8,
   "id": "35491e79",
   "metadata": {},
   "outputs": [
    {
     "name": "stdout",
     "output_type": "stream",
     "text": [
      "25.529411764705884\n"
     ]
    }
   ],
   "source": [
    "print(statistics.variance([34,36,36,38,38,39,39,40,40,41,41,41,41,42,42,45,49,56]))"
   ]
  },
  {
   "cell_type": "markdown",
   "id": "9a45fd8b",
   "metadata": {},
   "source": [
    "# Or"
   ]
  },
  {
   "cell_type": "code",
   "execution_count": 3,
   "id": "4956c970",
   "metadata": {},
   "outputs": [],
   "source": [
    "scores=pd.Series([34,36,36,38,38,39,39,40,40,41,41,41,41,42,42,45,49,56])"
   ]
  },
  {
   "cell_type": "code",
   "execution_count": 4,
   "id": "ec1d044e",
   "metadata": {},
   "outputs": [
    {
     "data": {
      "text/plain": [
       "41.0"
      ]
     },
     "execution_count": 4,
     "metadata": {},
     "output_type": "execute_result"
    }
   ],
   "source": [
    "#Mean\n",
    "scores.mean()"
   ]
  },
  {
   "cell_type": "code",
   "execution_count": 14,
   "id": "8005ca02",
   "metadata": {},
   "outputs": [
    {
     "data": {
      "text/plain": [
       "40.5"
      ]
     },
     "execution_count": 14,
     "metadata": {},
     "output_type": "execute_result"
    }
   ],
   "source": [
    "#Median\n",
    "scores.median()"
   ]
  },
  {
   "cell_type": "code",
   "execution_count": 15,
   "id": "3603de53",
   "metadata": {},
   "outputs": [
    {
     "data": {
      "text/plain": [
       "25.529411764705884"
      ]
     },
     "execution_count": 15,
     "metadata": {},
     "output_type": "execute_result"
    }
   ],
   "source": [
    "#Variance\n",
    "scores.var()"
   ]
  },
  {
   "cell_type": "code",
   "execution_count": 16,
   "id": "beb5050d",
   "metadata": {},
   "outputs": [
    {
     "data": {
      "text/plain": [
       "5.05266382858645"
      ]
     },
     "execution_count": 16,
     "metadata": {},
     "output_type": "execute_result"
    }
   ],
   "source": [
    "#Standard Deviation\n",
    "scores.std()"
   ]
  },
  {
   "cell_type": "code",
   "execution_count": 17,
   "id": "9b7420bf",
   "metadata": {},
   "outputs": [
    {
     "data": {
      "text/plain": [
       "{'whiskers': [<matplotlib.lines.Line2D at 0x1c77b7c69a0>,\n",
       "  <matplotlib.lines.Line2D at 0x1c77b7c6c70>],\n",
       " 'caps': [<matplotlib.lines.Line2D at 0x1c77b7c6f40>,\n",
       "  <matplotlib.lines.Line2D at 0x1c77be86250>],\n",
       " 'boxes': [<matplotlib.lines.Line2D at 0x1c77b7c66d0>],\n",
       " 'medians': [<matplotlib.lines.Line2D at 0x1c77be86520>],\n",
       " 'fliers': [<matplotlib.lines.Line2D at 0x1c77be867f0>],\n",
       " 'means': []}"
      ]
     },
     "execution_count": 17,
     "metadata": {},
     "output_type": "execute_result"
    },
    {
     "data": {
      "image/png": "[encoded data removed]",
      "text/plain": [
       "<Figure size 640x480 with 1 Axes>"
      ]
     },
     "metadata": {},
     "output_type": "display_data"
    }
   ],
   "source": [
    "plt.boxplot(scores)"
   ]
  },
  {
   "cell_type": "code",
   "execution_count": 18,
   "id": "c325c1e8",
   "metadata": {},
   "outputs": [
    {
     "data": {
      "image/png": "[encoded data removed]",
      "text/plain": [
       "<Figure size 1500x500 with 1 Axes>"
      ]
     },
     "metadata": {},
     "output_type": "display_data"
    }
   ],
   "source": [
    "f,ax=plt.subplots(figsize=(15,5))\n",
    "plt.subplot(1,3,1)\n",
    "plt.hist(scores)\n",
    "plt.title('scores')\n",
    "plt.show()"
   ]
  },
  {
   "cell_type": "code",
   "execution_count": null,
   "id": "20867bdc",
   "metadata": {},
   "outputs": [],
   "source": []
  }
 ],
 "metadata": {
  "kernelspec": {
   "display_name": "Python 3 (ipykernel)",
   "language": "python",
   "name": "python3"
  },
  "language_info": {
   "codemirror_mode": {
    "name": "ipython",
    "version": 3
   },
   "file_extension": ".py",
   "mimetype": "text/x-python",
   "name": "python",
   "nbconvert_exporter": "python",
   "pygments_lexer": "ipython3",
   "version": "3.9.13"
  }
 },
 "nbformat": 4,
 "nbformat_minor": 5
}
